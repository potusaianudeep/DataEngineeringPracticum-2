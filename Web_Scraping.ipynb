{
 "cells": [
  {
   "cell_type": "code",
   "execution_count": 1,
   "id": "270a8b40",
   "metadata": {},
   "outputs": [],
   "source": [
    "import requests\n",
    "import os\n"
   ]
  },
  {
   "cell_type": "code",
   "execution_count": 2,
   "id": "973fec20",
   "metadata": {},
   "outputs": [],
   "source": [
    "\n",
    "# URL of the file to download\n",
    "url = \"https://ftp.ncbi.nlm.nih.gov/pubmed/baseline/pubmed23n0001.xml.gz\"\n"
   ]
  },
  {
   "cell_type": "code",
   "execution_count": null,
   "id": "5dc0bf70",
   "metadata": {},
   "outputs": [],
   "source": [
    "# Full path to the file to save\n",
    "filepath = \"C:/Users/hp/PycharmProjects/pythonProject/\"\n"
   ]
  },
  {
   "cell_type": "code",
   "execution_count": null,
   "id": "85129193",
   "metadata": {},
   "outputs": [],
   "source": [
    "# Send an HTTP request to the URL and retrieve the file contents\n",
    "response = requests.get(url)\n"
   ]
  },
  {
   "cell_type": "code",
   "execution_count": null,
   "id": "bdc34521",
   "metadata": {},
   "outputs": [],
   "source": [
    "# Save the file contents to the specified path\n",
    "with open(filepath, \"wb\") as f:\n",
    "    f.write(response.content)"
   ]
  }
 ],
 "metadata": {
  "kernelspec": {
   "display_name": "Python 3 (ipykernel)",
   "language": "python",
   "name": "python3"
  },
  "language_info": {
   "codemirror_mode": {
    "name": "ipython",
    "version": 3
   },
   "file_extension": ".py",
   "mimetype": "text/x-python",
   "name": "python",
   "nbconvert_exporter": "python",
   "pygments_lexer": "ipython3",
   "version": "3.9.7"
  }
 },
 "nbformat": 4,
 "nbformat_minor": 5
}
